{
 "cells": [
  {
   "cell_type": "code",
   "execution_count": 2,
   "metadata": {},
   "outputs": [],
   "source": [
    "from __future__ import print_function\n",
    "import os\n",
    "import cv2 as cv\n",
    "import numpy as np\n",
    "import random as rng\n",
    "from PIL import Image as PILImage\n",
    "myShiTomasi_window = 'window'\n",
    "data_path = '/media/data1/image_data/chess/'\n",
    "patch_width = 50\n",
    "rng.seed(12345)"
   ]
  },
  {
   "cell_type": "code",
   "execution_count": 3,
   "metadata": {},
   "outputs": [],
   "source": [
    "def make_3d(gray_img):\n",
    "    # indexing with np.newaxis inserts a new 3rd dimension, which we then repeat the\n",
    "    # array along, (you can achieve the same effect by indexing with None)\n",
    "    return np.repeat(gray_img[:, :, np.newaxis], 3, axis=2)\n",
    "\n",
    "def show_corners(corners, src_img):\n",
    "    src_copy = np.copy(src_img)\n",
    "    cv.namedWindow('corners')\n",
    "    for i,j in corners:\n",
    "        cv.circle(src_copy, (round(j),round(i)), 4,  (rng.randint(0,256), rng.randint(0,256), rng.randint(0,256)), cv.FILLED)\n",
    "    cv.imshow('corners', src_copy)\n",
    "    cv.waitKey()\n",
    "    cv.destroyWindow('corners')\n",
    "                \n",
    "    \n",
    "def pad_with(vector, pad_width, iaxis, kwargs):\n",
    "    pad_value = kwargs.get('padder', 0)\n",
    "    vector[:pad_width[0]] = pad_value\n",
    "    vector[-pad_width[1]:] = pad_value"
   ]
  },
  {
   "cell_type": "code",
   "execution_count": 38,
   "metadata": {},
   "outputs": [
    {
     "name": "stdout",
     "output_type": "stream",
     "text": [
      "(1200, 1600, 3)\n",
      "(600, 800)\n"
     ]
    }
   ],
   "source": [
    "# Load source image and convert it to gray\n",
    "# img_filename = 'board_with_pieces.jpeg' # done\n",
    "# img_filename = 'board_with_pieces_overhead.png' # done\n",
    "# img_filename = 'IMG_0645.JPG' # done\n",
    "# img_filename = 'IMG_0646.JPG'\n",
    "# img_filename = 'IMG_0654.JPG' # done\n",
    "# img_filename = 'empty_chessboard.png' # done\n",
    "# img_filename = 'IMG_0650.JPG' # done\n",
    "# img_filename = 'board_wood_grain.jpg' # done\n",
    "# img_filename = 'board_wood_grain_oh.jpeg' # done\n",
    "# img_filename = 'board_wood_grain_with_pieces.jpg' # done\n",
    "# img_filename = 'board_wood_grain_red.jpg' # done\n",
    "index_dot = img_filename.index('.')\n",
    "img_filename_no_ext = img_filename[:index_dot] if index_dot > -1 else img_filename\n",
    "src = cv.imread(f'{data_path}{img_filename}')\n",
    "assert src is not None\n",
    "print(src.shape)\n",
    "# src_small = src\n",
    "src_gray = cv.cvtColor(src, cv.COLOR_BGR2GRAY)\n",
    "src_small = cv.resize(src, None, fx=0.5, fy=0.5)\n",
    "src_gray = cv.resize(src_gray, None, fx=0.5, fy=0.5)\n",
    "print(src_gray.shape)\n",
    "padded_src_gray = np.pad(src_gray, patch_width, pad_with)"
   ]
  },
  {
   "cell_type": "code",
   "execution_count": 39,
   "metadata": {},
   "outputs": [],
   "source": [
    "src_gray = cv.equalizeHist(src_gray)\n",
    "show_corners([], src_gray)"
   ]
  },
  {
   "cell_type": "code",
   "execution_count": 35,
   "metadata": {},
   "outputs": [],
   "source": [
    "# Set some parameters\n",
    "blockSize = 5\n",
    "min_distance = 10\n",
    "quality_level = .2"
   ]
  },
  {
   "cell_type": "code",
   "execution_count": 40,
   "metadata": {},
   "outputs": [],
   "source": [
    "# experimenting with goodFeaturesToTrack (it will do clustering for me)\n",
    "corners = cv.goodFeaturesToTrack(src_gray, 256, quality_level, min_distance)\n",
    "corner_coords = corners[:, 0, ::-1]\n",
    "show_corners(corner_coords, src_small)\n",
    "pc_list = corner_coords.tolist()\n",
    "rng.shuffle(pc_list)"
   ]
  },
  {
   "cell_type": "code",
   "execution_count": 41,
   "metadata": {},
   "outputs": [
    {
     "name": "stdout",
     "output_type": "stream",
     "text": [
      "1 / 85\n",
      "2 / 85\n",
      "3 / 85\n",
      "4 / 85\n",
      "5 / 85\n",
      "6 / 85\n",
      "7 / 85\n",
      "8 / 85\n",
      "9 / 85\n",
      "10 / 85\n",
      "11 / 85\n",
      "12 / 85\n",
      "13 / 85\n",
      "14 / 85\n",
      "15 / 85\n",
      "16 / 85\n",
      "17 / 85\n",
      "18 / 85\n",
      "19 / 85\n",
      "20 / 85\n",
      "21 / 85\n",
      "22 / 85\n",
      "23 / 85\n",
      "24 / 85\n",
      "25 / 85\n",
      "26 / 85\n",
      "27 / 85\n",
      "28 / 85\n",
      "29 / 85\n",
      "30 / 85\n",
      "31 / 85\n",
      "32 / 85\n",
      "33 / 85\n",
      "34 / 85\n",
      "35 / 85\n",
      "36 / 85\n",
      "37 / 85\n",
      "38 / 85\n",
      "39 / 85\n",
      "40 / 85\n",
      "41 / 85\n",
      "42 / 85\n",
      "43 / 85\n",
      "44 / 85\n",
      "45 / 85\n",
      "46 / 85\n",
      "47 / 85\n",
      "48 / 85\n",
      "49 / 85\n",
      "50 / 85\n",
      "51 / 85\n",
      "52 / 85\n",
      "53 / 85\n",
      "54 / 85\n",
      "55 / 85\n",
      "56 / 85\n",
      "57 / 85\n",
      "58 / 85\n",
      "59 / 85\n",
      "60 / 85\n",
      "61 / 85\n",
      "62 / 85\n",
      "63 / 85\n",
      "64 / 85\n",
      "65 / 85\n",
      "66 / 85\n",
      "67 / 85\n",
      "68 / 85\n",
      "69 / 85\n",
      "70 / 85\n",
      "71 / 85\n",
      "72 / 85\n",
      "73 / 85\n",
      "74 / 85\n",
      "75 / 85\n",
      "76 / 85\n",
      "77 / 85\n",
      "78 / 85\n",
      "79 / 85\n",
      "80 / 85\n",
      "81 / 85\n",
      "82 / 85\n",
      "83 / 85\n",
      "84 / 85\n",
      "85 / 85\n"
     ]
    }
   ],
   "source": [
    "# USE THIS TO GENERATE SAMPLE DATA FOR ML\n",
    "qKey = 113\n",
    "backKey = 8\n",
    "enterKey = 13\n",
    "cv.namedWindow('a')\n",
    "pos_count = 0\n",
    "neg_count = 0\n",
    "for i, j in pc_list:\n",
    "    i = round(i)\n",
    "    j = round(j)\n",
    "    i += patch_width # to get out of the 0 padding\n",
    "    j += patch_width # to get out of the 0 padding\n",
    "    clean_corner_image = PILImage.fromarray(padded_src_gray[i-patch_width:i+patch_width, j-patch_width:j+patch_width])\n",
    "    corner_image = np.copy(clean_corner_image)\n",
    "    cv.circle(corner_image, (patch_width,patch_width), 4, (0, 0, 0), cv.FILLED)\n",
    "    if pos_count < 49:\n",
    "        cv.imshow('a', corner_image)\n",
    "        cv.moveWindow('a', 2800, 500)\n",
    "        b = cv.waitKey()\n",
    "    else:\n",
    "        b = backKey\n",
    "    if b == qKey:\n",
    "        break\n",
    "    if b == backKey:\n",
    "        neg_count += 1\n",
    "        label = 0\n",
    "        count = neg_count\n",
    "    else:\n",
    "        pos_count += 1\n",
    "        label = 1\n",
    "        count = pos_count\n",
    "    clean_corner_image.save(f'{data_path}corner_data/{img_filename_no_ext}_{patch_width}_{label}_{count:04d}.jpeg')\n",
    "    print(f'{neg_count + pos_count} / {len(pc_list)}')\n",
    "cv.destroyAllWindows()"
   ]
  },
  {
   "cell_type": "code",
   "execution_count": 12,
   "metadata": {},
   "outputs": [],
   "source": [
    "cv.destroyAllWindows()"
   ]
  },
  {
   "cell_type": "code",
   "execution_count": null,
   "metadata": {},
   "outputs": [],
   "source": []
  }
 ],
 "metadata": {
  "kernelspec": {
   "display_name": "Python 3",
   "language": "python",
   "name": "python3"
  },
  "language_info": {
   "codemirror_mode": {
    "name": "ipython",
    "version": 3
   },
   "file_extension": ".py",
   "mimetype": "text/x-python",
   "name": "python",
   "nbconvert_exporter": "python",
   "pygments_lexer": "ipython3",
   "version": "3.6.7"
  }
 },
 "nbformat": 4,
 "nbformat_minor": 2
}
